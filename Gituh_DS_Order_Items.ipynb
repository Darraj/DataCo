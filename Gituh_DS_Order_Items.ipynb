{
  "nbformat": 4,
  "nbformat_minor": 0,
  "metadata": {
    "colab": {
      "name": "Gituh_DS_Order_Items.ipynb",
      "provenance": [],
      "collapsed_sections": [],
      "authorship_tag": "ABX9TyOG8T/8hwz2GUOBStigaDRr",
      "include_colab_link": true
    },
    "kernelspec": {
      "name": "python3",
      "display_name": "Python 3"
    }
  },
  "cells": [
    {
      "cell_type": "markdown",
      "metadata": {
        "id": "view-in-github",
        "colab_type": "text"
      },
      "source": [
        "<a href=\"https://colab.research.google.com/github/Darraj/DataCo/blob/main/Gituh_DS_Order_Items.ipynb\" target=\"_parent\"><img src=\"https://colab.research.google.com/assets/colab-badge.svg\" alt=\"Open In Colab\"/></a>"
      ]
    },
    {
      "cell_type": "code",
      "metadata": {
        "id": "-g8bzfI_wrJ8",
        "outputId": "675b1440-69e7-4d42-90dd-9058b5bcb069",
        "colab": {
          "base_uri": "https://localhost:8080/",
          "height": 34
        }
      },
      "source": [
        "import csv, sqlite3, pandas\n",
        "ddb_connection = sqlite3.connect('testdb.db')\n",
        "print(\"success\")\n",
        "cursor = ddb_connection.cursor()\n",
        "url = 'https://raw.githubusercontent.com/Darraj/DataCo/main/DS2.2-order_items_99999.csv'\n",
        "df = pandas.read_csv(url, error_bad_lines=False)\n",
        "df.to_sql('customers', ddb_connection, if_exists='append', index=False)"
      ],
      "execution_count": 1,
      "outputs": [
        {
          "output_type": "stream",
          "text": [
            "success\n"
          ],
          "name": "stdout"
        }
      ]
    },
    {
      "cell_type": "code",
      "metadata": {
        "id": "D991MNUazFnp",
        "outputId": "24c1b738-274d-4084-a233-939eb92ee9a3",
        "colab": {
          "base_uri": "https://localhost:8080/",
          "height": 419
        }
      },
      "source": [
        "data = pandas.read_sql_query('select * from customers',ddb_connection)\n",
        "data"
      ],
      "execution_count": 2,
      "outputs": [
        {
          "output_type": "execute_result",
          "data": {
            "text/html": [
              "<div>\n",
              "<style scoped>\n",
              "    .dataframe tbody tr th:only-of-type {\n",
              "        vertical-align: middle;\n",
              "    }\n",
              "\n",
              "    .dataframe tbody tr th {\n",
              "        vertical-align: top;\n",
              "    }\n",
              "\n",
              "    .dataframe thead th {\n",
              "        text-align: right;\n",
              "    }\n",
              "</style>\n",
              "<table border=\"1\" class=\"dataframe\">\n",
              "  <thead>\n",
              "    <tr style=\"text-align: right;\">\n",
              "      <th></th>\n",
              "      <th>order_item_id</th>\n",
              "      <th>order_item_order_id</th>\n",
              "      <th>order_item_product_id</th>\n",
              "      <th>order_item_quantity</th>\n",
              "      <th>order_item_subtotal</th>\n",
              "      <th>order_item_product_price</th>\n",
              "    </tr>\n",
              "  </thead>\n",
              "  <tbody>\n",
              "    <tr>\n",
              "      <th>0</th>\n",
              "      <td>1</td>\n",
              "      <td>1</td>\n",
              "      <td>957</td>\n",
              "      <td>1</td>\n",
              "      <td>299.980011</td>\n",
              "      <td>299.980011</td>\n",
              "    </tr>\n",
              "    <tr>\n",
              "      <th>1</th>\n",
              "      <td>2</td>\n",
              "      <td>2</td>\n",
              "      <td>1073</td>\n",
              "      <td>1</td>\n",
              "      <td>199.990005</td>\n",
              "      <td>199.990005</td>\n",
              "    </tr>\n",
              "    <tr>\n",
              "      <th>2</th>\n",
              "      <td>3</td>\n",
              "      <td>2</td>\n",
              "      <td>502</td>\n",
              "      <td>5</td>\n",
              "      <td>250.000000</td>\n",
              "      <td>50.000000</td>\n",
              "    </tr>\n",
              "    <tr>\n",
              "      <th>3</th>\n",
              "      <td>4</td>\n",
              "      <td>2</td>\n",
              "      <td>403</td>\n",
              "      <td>1</td>\n",
              "      <td>129.990005</td>\n",
              "      <td>129.990005</td>\n",
              "    </tr>\n",
              "    <tr>\n",
              "      <th>4</th>\n",
              "      <td>5</td>\n",
              "      <td>4</td>\n",
              "      <td>897</td>\n",
              "      <td>2</td>\n",
              "      <td>49.980000</td>\n",
              "      <td>24.990000</td>\n",
              "    </tr>\n",
              "    <tr>\n",
              "      <th>...</th>\n",
              "      <td>...</td>\n",
              "      <td>...</td>\n",
              "      <td>...</td>\n",
              "      <td>...</td>\n",
              "      <td>...</td>\n",
              "      <td>...</td>\n",
              "    </tr>\n",
              "    <tr>\n",
              "      <th>99994</th>\n",
              "      <td>99995</td>\n",
              "      <td>40070</td>\n",
              "      <td>957</td>\n",
              "      <td>1</td>\n",
              "      <td>299.980011</td>\n",
              "      <td>299.980011</td>\n",
              "    </tr>\n",
              "    <tr>\n",
              "      <th>99995</th>\n",
              "      <td>99996</td>\n",
              "      <td>40070</td>\n",
              "      <td>502</td>\n",
              "      <td>2</td>\n",
              "      <td>100.000000</td>\n",
              "      <td>50.000000</td>\n",
              "    </tr>\n",
              "    <tr>\n",
              "      <th>99996</th>\n",
              "      <td>99997</td>\n",
              "      <td>40070</td>\n",
              "      <td>502</td>\n",
              "      <td>4</td>\n",
              "      <td>200.000000</td>\n",
              "      <td>50.000000</td>\n",
              "    </tr>\n",
              "    <tr>\n",
              "      <th>99997</th>\n",
              "      <td>99998</td>\n",
              "      <td>40071</td>\n",
              "      <td>1073</td>\n",
              "      <td>1</td>\n",
              "      <td>199.990005</td>\n",
              "      <td>199.990005</td>\n",
              "    </tr>\n",
              "    <tr>\n",
              "      <th>99998</th>\n",
              "      <td>99999</td>\n",
              "      <td>40072</td>\n",
              "      <td>778</td>\n",
              "      <td>3</td>\n",
              "      <td>74.970001</td>\n",
              "      <td>24.990000</td>\n",
              "    </tr>\n",
              "  </tbody>\n",
              "</table>\n",
              "<p>99999 rows × 6 columns</p>\n",
              "</div>"
            ],
            "text/plain": [
              "       order_item_id  ...  order_item_product_price\n",
              "0                  1  ...                299.980011\n",
              "1                  2  ...                199.990005\n",
              "2                  3  ...                 50.000000\n",
              "3                  4  ...                129.990005\n",
              "4                  5  ...                 24.990000\n",
              "...              ...  ...                       ...\n",
              "99994          99995  ...                299.980011\n",
              "99995          99996  ...                 50.000000\n",
              "99996          99997  ...                 50.000000\n",
              "99997          99998  ...                199.990005\n",
              "99998          99999  ...                 24.990000\n",
              "\n",
              "[99999 rows x 6 columns]"
            ]
          },
          "metadata": {
            "tags": []
          },
          "execution_count": 2
        }
      ]
    },
    {
      "cell_type": "code",
      "metadata": {
        "id": "nNN9KGRc0JPb",
        "outputId": "0c1878d3-6a0e-4bd9-ed67-37e74987da22",
        "colab": {
          "base_uri": "https://localhost:8080/",
          "height": 80
        }
      },
      "source": [
        "data = pandas.read_sql_query('select avg(order_item_product_price) from customers',ddb_connection)\n",
        "data"
      ],
      "execution_count": 3,
      "outputs": [
        {
          "output_type": "execute_result",
          "data": {
            "text/html": [
              "<div>\n",
              "<style scoped>\n",
              "    .dataframe tbody tr th:only-of-type {\n",
              "        vertical-align: middle;\n",
              "    }\n",
              "\n",
              "    .dataframe tbody tr th {\n",
              "        vertical-align: top;\n",
              "    }\n",
              "\n",
              "    .dataframe thead th {\n",
              "        text-align: right;\n",
              "    }\n",
              "</style>\n",
              "<table border=\"1\" class=\"dataframe\">\n",
              "  <thead>\n",
              "    <tr style=\"text-align: right;\">\n",
              "      <th></th>\n",
              "      <th>avg(order_item_product_price)</th>\n",
              "    </tr>\n",
              "  </thead>\n",
              "  <tbody>\n",
              "    <tr>\n",
              "      <th>0</th>\n",
              "      <td>131.362694</td>\n",
              "    </tr>\n",
              "  </tbody>\n",
              "</table>\n",
              "</div>"
            ],
            "text/plain": [
              "   avg(order_item_product_price)\n",
              "0                     131.362694"
            ]
          },
          "metadata": {
            "tags": []
          },
          "execution_count": 3
        }
      ]
    }
  ]
}